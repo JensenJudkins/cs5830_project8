{
 "cells": [
  {
   "cell_type": "markdown",
   "metadata": {},
   "source": [
    "For the decision trees you should visualize at least two trees (using code we saw in class) at different maximum depths. Discuss the effect the depth has on bias and variance. Discuss the choices the algorithm makes in which attributes to split on. For example, at a given tree level do all nodes split on the same attribute? Why or why not?"
   ]
  },
  {
   "cell_type": "code",
   "execution_count": null,
   "metadata": {},
   "outputs": [],
   "source": [
    "#Imports\n",
    "import pandas as pd\n",
    "import numpy as np\n",
    "from sklearn.neighbors import NearestNeighbors\n",
    "import random\n",
    "from sklearn.tree import export_graphviz\n",
    "from IPython.display import SVG\n",
    "from graphviz import Source\n",
    "\n",
    "import matplotlib.pyplot as plt"
   ]
  },
  {
   "cell_type": "code",
   "execution_count": null,
   "metadata": {},
   "outputs": [],
   "source": [
    "df = pd.read_csv('weatherAUS.csv')\n",
    "df = df.dropna()\n",
    "df = df.drop(columns=['Location'])\n",
    "\n",
    "#Convert categorical data to numerical data\n",
    "df = pd.get_dummies(df)\n",
    "df = df.drop(columns=['RainTomorrow_No'])\n",
    "\n",
    "#Create a list of feature columns\n",
    "features = df.drop(columns=['RainTomorrow_Yes']).columns\n",
    "\n",
    "#Define X and y\n",
    "X = df\n",
    "y = df['RainTomorrow_Yes']\n",
    "\n",
    "#Fit a classigication tree with max_depth=3 on all data"
   ]
  }
 ],
 "metadata": {
  "kernelspec": {
   "display_name": "Python 3",
   "language": "python",
   "name": "python3"
  },
  "language_info": {
   "name": "python",
   "version": "3.10.1"
  }
 },
 "nbformat": 4,
 "nbformat_minor": 2
}
