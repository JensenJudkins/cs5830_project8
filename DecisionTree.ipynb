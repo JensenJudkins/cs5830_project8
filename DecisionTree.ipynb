{
 "cells": [
  {
   "cell_type": "markdown",
   "metadata": {},
   "source": [
    "For the decision trees you should visualize at least two trees (using code we saw in class) at different maximum depths. Discuss the effect the depth has on bias and variance. Discuss the choices the algorithm makes in which attributes to split on. For example, at a given tree level do all nodes split on the same attribute? Why or why not?"
   ]
  },
  {
   "cell_type": "code",
   "execution_count": null,
   "metadata": {},
   "outputs": [],
   "source": [
    "#Imports\n",
    "import pandas as pd\n",
    "import numpy as np\n",
    "from sklearn.neighbors import NearestNeighbors\n",
    "import random\n",
    "from sklearn.tree import export_graphviz\n",
    "from IPython.display import SVG\n",
    "from graphviz import Source\n",
    "from sklearn.preprocessing import StandardScaler\n",
    "import matplotlib.pyplot as plt\n",
    "import seaborn as sns\n",
    "import sys\n",
    "from sklearn.tree import DecisionTreeClassifier\n",
    "from sklearn import tree\n",
    "from sklearn import metrics\n",
    "from sklearn.metrics import confusion_matrix"
   ]
  },
  {
   "cell_type": "code",
   "execution_count": null,
   "metadata": {},
   "outputs": [],
   "source": [
    "# https://www.kaggle.com/datasets/jsphyg/weather-dataset-rattle-package\n",
    "# https://github.com/thatsmellything/cs5830_project8\n",
    "df = pd.read_csv('weatherAUS.csv')\n",
    "\n",
    "binary = ['RainToday', 'RainTomorrow']\n",
    "direction = ['WindGustDir', 'WindDir9am', 'WindDir3pm']\n",
    "categorical = ['Location']\n",
    "numerical = ['MinTemp', 'MaxTemp', 'Rainfall', 'WindGustSpeed', 'Evaporation', 'Sunshine', 'WindSpeed9am', 'WindSpeed3pm', 'Humidity9am', 'Humidity3pm', 'Pressure9am', 'Pressure3pm', 'Cloud9am', 'Cloud3pm', 'Temp9am', 'Temp3pm']\n",
    "date = ['Date'] \n",
    "\n",
    "windDir = {\n",
    "    'N': 0, 'NNE': 22.5, 'NE': 45,\n",
    "    'ENE': 67.5, 'E': 90, 'ESE': 112.5,\n",
    "    'SE': 135, 'SSE': 157.5, 'S': 180, 'SSW': 202.5, 'SW': 225,\n",
    "    'WSW': 247.5, 'W': 270, 'WNW': 292.5,\n",
    "    'NW': 315, 'NNW': 337.5\n",
    "}\n",
    "def circleEncoding(direction):\n",
    "    if (direction not in windDir):\n",
    "        return (0, 0)\n",
    "    num = windDir[direction]\n",
    "    angle = np.deg2rad(num)\n",
    "    return round(np.cos(angle), 3), round(np.sin(angle), 3)\n",
    "\n",
    "columns = set(df.columns.values)\n",
    "print(f\"are all the columns in the dataframe: {columns == set(categorical + numerical + date)}\")\n",
    "print(f\"columns that are not in the dataframe: {columns - set(categorical + numerical + date)}\")\n"
   ]
  },
  {
   "cell_type": "code",
   "execution_count": null,
   "metadata": {},
   "outputs": [],
   "source": [
    "\"\"\" Standardize the numerical columns and one-hot encode the categorical columns.\n",
    "    convert the binary columns to 0 and 1. And convert the date column to datetime.\"\"\"\n",
    "\n",
    "scaler = StandardScaler()\n",
    "df[numerical] = scaler.fit_transform(df[numerical])\n",
    "df[numerical] = df[numerical].fillna(0)\n",
    "df[numerical] = df[numerical].astype('float16')\n",
    "\n",
    "df[binary] = df[binary].replace({'No': 0, 'Yes': 1})\n",
    "\n",
    "# df = pd.get_dummies(df, columns=categorical)\n",
    "df = df.drop(columns=categorical)\n",
    "\n",
    "df['Date'] = pd.to_datetime(df['Date']).dt.month\n",
    "df = df.rename(columns={'Date': 'Month'})\n",
    "\n",
    "for col in direction: # Apply circle encoding and return the sin and cos values into features\n",
    "    df[col + '_cos'], df[col + '_sin'] = zip(*df[col].apply(circleEncoding))\n",
    "df = df.drop(columns=direction)\n",
    "\n",
    "df = df.dropna()\n",
    "\n",
    "#display(df.info())\n",
    "df.to_csv('weatherAUS_cleaned.csv', index=False)"
   ]
  },
  {
   "cell_type": "code",
   "execution_count": null,
   "metadata": {},
   "outputs": [],
   "source": [
    "feature_cols = [col for col in df.columns if col != 'RainTomorrow']\n",
    "\n",
    "X = df[feature_cols]\n",
    "y = df['RainTomorrow']\n",
    "\n",
    "# fit classification tree with max_depth=3 on all data\n",
    "\n",
    "treeclf = DecisionTreeClassifier(max_depth=5, random_state=1)\n",
    "treeclf.fit(X, y)\n",
    "\n",
    "graph = Source(tree.export_graphviz(treeclf, out_file=None, feature_names=feature_cols, class_names=['No', 'Yes'], filled = True))\n",
    "display(SVG(graph.pipe(format='svg')))\n",
    "graph.render('tree', format='png', cleanup=True)\n",
    "#Save the tree as a png file\n",
    "\n",
    "\n"
   ]
  },
  {
   "cell_type": "code",
   "execution_count": null,
   "metadata": {},
   "outputs": [],
   "source": [
    "#Confusion matrix\n",
    "y_pred = treeclf.predict(X)\n",
    "confusion_matrix(y, y_pred)\n",
    "#GRaph of confusion matrix\n",
    "cm = confusion_matrix(y, y_pred)\n",
    "# Display confusion matrix\n",
    "plt.figure(figsize=(8, 6))\n",
    "sns.heatmap(cm, annot=True, fmt='d', cmap='Blues', cbar=False)\n",
    "plt.xlabel('Predicted')\n",
    "plt.ylabel('Actual')\n",
    "plt.title('Confusion Matrix')\n",
    "plt.show()\n",
    "\n",
    "#Print f1 score\n",
    "print('F1 score: ',metrics.f1_score(y, y_pred))\n",
    "#Accuracy\n",
    "print('Accuracy: ',metrics.accuracy_score(y, y_pred))\n",
    "#Precision\n",
    "print('Precision: ',metrics.precision_score(y, y_pred))"
   ]
  },
  {
   "cell_type": "code",
   "execution_count": null,
   "metadata": {},
   "outputs": [],
   "source": [
    "pd.DataFrame({'feature': feature_cols, 'importance': treeclf.feature_importances_}).sort_values('importance', ascending=False)"
   ]
  },
  {
   "cell_type": "code",
   "execution_count": null,
   "metadata": {},
   "outputs": [],
   "source": [
    "#Making a new model with the most important features\n",
    "important_features = ['Humidity3pm', 'WindGustSpeed','WindGustSpeed']\n",
    "X = df[important_features]\n",
    "y = df['RainTomorrow']\n",
    "\n",
    "treeclf = DecisionTreeClassifier(max_depth=3, random_state=1)\n",
    "treeclf.fit(X, y)\n",
    "\n",
    "graph = Source(tree.export_graphviz(treeclf, out_file=None, feature_names=important_features, class_names=['No', 'Yes'], filled = True))\n",
    "display(SVG(graph.pipe(format='svg')))\n",
    "graph.render('tree_important', format='png', cleanup=True)\n",
    "\n",
    "pd.DataFrame({'feature': important_features, 'importance': treeclf.feature_importances_}).sort_values('importance', ascending=False)\n",
    "\n"
   ]
  },
  {
   "cell_type": "code",
   "execution_count": null,
   "metadata": {},
   "outputs": [],
   "source": [
    "#Confusion matrix\n",
    "y_pred = treeclf.predict(X)\n",
    "confusion_matrix(y, y_pred)"
   ]
  },
  {
   "cell_type": "code",
   "execution_count": null,
   "metadata": {},
   "outputs": [],
   "source": [
    "#GRaph of confusion matrix\n",
    "cm = confusion_matrix(y, y_pred)\n",
    "# Display confusion matrix\n",
    "plt.figure(figsize=(8, 6))\n",
    "sns.heatmap(cm, annot=True, fmt='d', cmap='Blues', cbar=False)\n",
    "plt.xlabel('Predicted')\n",
    "plt.ylabel('Actual')\n",
    "plt.title('Confusion Matrix')\n",
    "plt.show()\n",
    "\n",
    "#Print f1 score\n",
    "print('F1 score: ',metrics.f1_score(y, y_pred))\n",
    "#Accuracy\n",
    "print('Accuracy: ',metrics.accuracy_score(y, y_pred))\n",
    "#Precision\n",
    "print('Precision: ',metrics.precision_score(y, y_pred))\n",
    "\n"
   ]
  }
 ],
 "metadata": {
  "kernelspec": {
   "display_name": "Python 3",
   "language": "python",
   "name": "python3"
  },
  "language_info": {
   "codemirror_mode": {
    "name": "ipython",
    "version": 3
   },
   "file_extension": ".py",
   "mimetype": "text/x-python",
   "name": "python",
   "nbconvert_exporter": "python",
   "pygments_lexer": "ipython3",
   "version": "3.10.1"
  }
 },
 "nbformat": 4,
 "nbformat_minor": 2
}
