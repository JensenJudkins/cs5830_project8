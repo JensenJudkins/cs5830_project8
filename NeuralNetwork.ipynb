{
 "cells": [
  {
   "cell_type": "code",
   "execution_count": 110,
   "metadata": {},
   "outputs": [],
   "source": [
    "import pandas as pd\n",
    "import matplotlib.pyplot as plt\n",
    "import seaborn as sns\n",
    "import sys\n",
    "from sklearn.preprocessing import StandardScaler\n",
    "import numpy as np"
   ]
  },
  {
   "cell_type": "code",
   "execution_count": 111,
   "metadata": {},
   "outputs": [
    {
     "name": "stdout",
     "output_type": "stream",
     "text": [
      "are all the columns in the dataframe: False\n",
      "columns that are not in the dataframe: {'RainToday', 'WindDir3pm', 'WindGustDir', 'WindDir9am', 'RainTomorrow'}\n"
     ]
    }
   ],
   "source": [
    "df = pd.read_csv('weatherAUS.csv')\n",
    "\n",
    "binary = ['RainToday', 'RainTomorrow']\n",
    "direction = ['WindGustDir', 'WindDir9am', 'WindDir3pm']\n",
    "categorical = ['Location']\n",
    "numerical = ['MinTemp', 'MaxTemp', 'Rainfall', 'WindGustSpeed', 'Evaporation', 'Sunshine', 'WindSpeed9am', 'WindSpeed3pm', 'Humidity9am', 'Humidity3pm', 'Pressure9am', 'Pressure3pm', 'Cloud9am', 'Cloud3pm', 'Temp9am', 'Temp3pm']\n",
    "date = ['Date'] \n",
    "\n",
    "windDir = {\n",
    "    'N': 0, 'NNE': 22.5, 'NE': 45,\n",
    "    'ENE': 67.5, 'E': 90, 'ESE': 112.5,\n",
    "    'SE': 135, 'SSE': 157.5, 'S': 180, 'SSW': 202.5, 'SW': 225,\n",
    "    'WSW': 247.5, 'W': 270, 'WNW': 292.5,\n",
    "    'NW': 315, 'NNW': 337.5\n",
    "}\n",
    "def circleEncoding(direction):\n",
    "    if (direction not in windDir):\n",
    "        return (0, 0)\n",
    "    num = windDir[direction]\n",
    "    angle = np.deg2rad(num)\n",
    "    return round(np.cos(angle), 3), round(np.sin(angle), 3)\n",
    "\n",
    "columns = set(df.columns.values)\n",
    "print(f\"are all the columns in the dataframe: {columns == set(categorical + numerical + date)}\")\n",
    "print(f\"columns that are not in the dataframe: {columns - set(categorical + numerical + date)}\")\n"
   ]
  },
  {
   "cell_type": "code",
   "execution_count": 112,
   "metadata": {},
   "outputs": [
    {
     "name": "stdout",
     "output_type": "stream",
     "text": [
      "<class 'pandas.core.frame.DataFrame'>\n",
      "Index: 140787 entries, 0 to 145458\n",
      "Data columns (total 25 columns):\n",
      " #   Column           Non-Null Count   Dtype  \n",
      "---  ------           --------------   -----  \n",
      " 0   Month            140787 non-null  int32  \n",
      " 1   MinTemp          140787 non-null  float16\n",
      " 2   MaxTemp          140787 non-null  float16\n",
      " 3   Rainfall         140787 non-null  float16\n",
      " 4   Evaporation      140787 non-null  float16\n",
      " 5   Sunshine         140787 non-null  float16\n",
      " 6   WindGustSpeed    140787 non-null  float16\n",
      " 7   WindSpeed9am     140787 non-null  float16\n",
      " 8   WindSpeed3pm     140787 non-null  float16\n",
      " 9   Humidity9am      140787 non-null  float16\n",
      " 10  Humidity3pm      140787 non-null  float16\n",
      " 11  Pressure9am      140787 non-null  float16\n",
      " 12  Pressure3pm      140787 non-null  float16\n",
      " 13  Cloud9am         140787 non-null  float16\n",
      " 14  Cloud3pm         140787 non-null  float16\n",
      " 15  Temp9am          140787 non-null  float16\n",
      " 16  Temp3pm          140787 non-null  float16\n",
      " 17  RainToday        140787 non-null  float64\n",
      " 18  RainTomorrow     140787 non-null  float64\n",
      " 19  WindGustDir_cos  140787 non-null  float64\n",
      " 20  WindGustDir_sin  140787 non-null  float64\n",
      " 21  WindDir9am_cos   140787 non-null  float64\n",
      " 22  WindDir9am_sin   140787 non-null  float64\n",
      " 23  WindDir3pm_cos   140787 non-null  float64\n",
      " 24  WindDir3pm_sin   140787 non-null  float64\n",
      "dtypes: float16(16), float64(8), int32(1)\n",
      "memory usage: 14.5 MB\n"
     ]
    },
    {
     "data": {
      "text/plain": [
       "None"
      ]
     },
     "metadata": {},
     "output_type": "display_data"
    }
   ],
   "source": [
    "\"\"\" Standardize the numerical columns and one-hot encode the categorical columns.\n",
    "    convert the binary columns to 0 and 1. And convert the date column to datetime.\"\"\"\n",
    "\n",
    "scaler = StandardScaler()\n",
    "df[numerical] = scaler.fit_transform(df[numerical])\n",
    "df[numerical] = df[numerical].fillna(0)\n",
    "df[numerical] = df[numerical].astype('float16')\n",
    "\n",
    "df[binary] = df[binary].replace({'No': 0, 'Yes': 1})\n",
    "\n",
    "# df = pd.get_dummies(df, columns=categorical)\n",
    "df = df.drop(columns=categorical)\n",
    "\n",
    "df['Date'] = pd.to_datetime(df['Date']).dt.month\n",
    "df = df.rename(columns={'Date': 'Month'})\n",
    "\n",
    "for col in direction: # Apply circle encoding and return the sin and cos values into features\n",
    "    df[col + '_cos'], df[col + '_sin'] = zip(*df[col].apply(circleEncoding))\n",
    "df = df.drop(columns=direction)\n",
    "\n",
    "df = df.dropna()\n",
    "\n",
    "display(df.info())\n",
    "df.to_csv('weatherAUS_cleaned.csv', index=False)"
   ]
  },
  {
   "cell_type": "code",
   "execution_count": 115,
   "metadata": {},
   "outputs": [],
   "source": [
    "from keras.layers import Conv2D, MaxPooling2D, Flatten, Dense\n",
    "from keras.models import Sequential\n",
    "from keras.initializers import HeNormal\n",
    "from keras.regularizers import l2\n",
    "from keras.callbacks import LearningRateScheduler\n",
    "from keras.optimizers.schedules import ExponentialDecay\n",
    "from keras.layers import Dropout\n",
    "from sklearn.base import BaseEstimator, ClassifierMixin\n",
    "\n",
    "\n",
    "class DenseModel(BaseEstimator, ClassifierMixin):\n",
    "    def __init__(self, numClasses=10):\n",
    "        self.model = Sequential([\n",
    "            self.DenseLayer(1, activation='relu'),\n",
    "            Dropout(0.2),\n",
    "            self.DenseLayer(numClasses, activation='softmax'),\n",
    "        ])\n",
    "    \n",
    "    # Customer Dense layer\n",
    "    def DenseLayer(self, nodes, activation='relu'):\n",
    "        return Dense(\n",
    "            nodes, activation=activation, \n",
    "            kernel_initializer=HeNormal(), bias_initializer=HeNormal(),\n",
    "            kernel_regularizer=l2(0.01), bias_regularizer=l2(0.01)\n",
    "        )\n",
    "\n",
    "    # Resets weights to HeNormal\n",
    "    def reset_weights(self):\n",
    "        initial_weights = self.model.get_weights()\n",
    "        self.model.set_weights(initial_weights)\n",
    "\n",
    "    # compile the model\n",
    "    def compile(self):\n",
    "        self.model.compile(optimizer='adam', loss='sparse_categorical_crossentropy', metrics=['accuracy'])\n",
    "\n",
    "    # Run the model. Forward fit using a learning rate scheduler\n",
    "    def fit(self, training_images, training_labels, epochs=1, batch_size=32):\n",
    "        lr_scheduler = ExponentialDecay(initial_learning_rate=0.001, decay_steps=1, decay_rate=.1)\n",
    "        self.model.fit(training_images, training_labels, epochs=epochs, \n",
    "                    batch_size=batch_size, callbacks=[LearningRateScheduler(lr_scheduler)])\n"
   ]
  },
  {
   "cell_type": "code",
   "execution_count": 118,
   "metadata": {},
   "outputs": [
    {
     "name": "stdout",
     "output_type": "stream",
     "text": [
      "Index(['Month', 'MinTemp', 'MaxTemp', 'Rainfall', 'Evaporation', 'Sunshine',\n",
      "       'WindGustSpeed', 'WindSpeed9am', 'WindSpeed3pm', 'Humidity9am',\n",
      "       'Humidity3pm', 'Pressure9am', 'Pressure3pm', 'Cloud9am', 'Cloud3pm',\n",
      "       'Temp9am', 'Temp3pm', 'RainToday', 'WindGustDir_cos', 'WindGustDir_sin',\n",
      "       'WindDir9am_cos', 'WindDir9am_sin', 'WindDir3pm_cos', 'WindDir3pm_sin'],\n",
      "      dtype='object')\n"
     ]
    }
   ],
   "source": [
    "# Create and train model \n",
    "from sklearn.model_selection import train_test_split\n",
    "\n",
    "y = df['RainTomorrow']\n",
    "X = df.drop(columns=['RainTomorrow'])\n",
    "X_train, X_test, y_train, y_test = train_test_split(X, y, test_size=0.2, random_state=42)\n",
    "\n",
    "model = DenseModel()\n",
    "model.compile()\n",
    "model.fit(X_train, y_train, epochs=1, batch_size=32)\n",
    "model.reset_weights()\n",
    "model.model.evaluate(X_test, y_test)"
   ]
  }
 ],
 "metadata": {
  "kernelspec": {
   "display_name": "Python 3",
   "language": "python",
   "name": "python3"
  },
  "language_info": {
   "codemirror_mode": {
    "name": "ipython",
    "version": 3
   },
   "file_extension": ".py",
   "mimetype": "text/x-python",
   "name": "python",
   "nbconvert_exporter": "python",
   "pygments_lexer": "ipython3",
   "version": "3.11.6"
  }
 },
 "nbformat": 4,
 "nbformat_minor": 2
}
