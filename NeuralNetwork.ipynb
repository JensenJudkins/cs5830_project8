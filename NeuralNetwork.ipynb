{
 "cells": [
  {
   "cell_type": "code",
   "execution_count": 21,
   "metadata": {},
   "outputs": [],
   "source": [
    "import pandas as pd\n",
    "import matplotlib.pyplot as plt\n",
    "import seaborn as sns\n",
    "from sklearn.preprocessing import StandardScaler\n",
    "import numpy as np\n",
    "from imblearn.over_sampling import SMOTE\n",
    "from imblearn.under_sampling import RandomUnderSampler"
   ]
  },
  {
   "cell_type": "code",
   "execution_count": 22,
   "metadata": {},
   "outputs": [
    {
     "name": "stdout",
     "output_type": "stream",
     "text": [
      "are all the columns in the dataframe: False\n",
      "columns that are not in the dataframe: {'RainTomorrow', 'RainToday', 'WindDir9am', 'WindDir3pm', 'WindGustDir'}\n"
     ]
    }
   ],
   "source": [
    "# https://www.kaggle.com/datasets/jsphyg/weather-dataset-rattle-package\n",
    "# https://github.com/thatsmellything/cs5830_project8\n",
    "df = pd.read_csv('weatherAUS.csv')\n",
    "\n",
    "binary = ['RainToday', 'RainTomorrow']\n",
    "direction = ['WindGustDir', 'WindDir9am', 'WindDir3pm']\n",
    "categorical = ['Location']\n",
    "numerical = ['MinTemp', 'MaxTemp', 'Rainfall', 'WindGustSpeed', 'Evaporation', 'Sunshine', 'WindSpeed9am', 'WindSpeed3pm', 'Humidity9am', 'Humidity3pm', 'Pressure9am', 'Pressure3pm', 'Cloud9am', 'Cloud3pm', 'Temp9am', 'Temp3pm']\n",
    "date = ['Date'] \n",
    "\n",
    "windDir = {\n",
    "    'N': 0, 'NNE': 22.5, 'NE': 45,\n",
    "    'ENE': 67.5, 'E': 90, 'ESE': 112.5,\n",
    "    'SE': 135, 'SSE': 157.5, 'S': 180, 'SSW': 202.5, 'SW': 225,\n",
    "    'WSW': 247.5, 'W': 270, 'WNW': 292.5,\n",
    "    'NW': 315, 'NNW': 337.5\n",
    "}\n",
    "def circleEncoding(direction):\n",
    "    if (direction not in windDir):\n",
    "        return (0, 0)\n",
    "    num = windDir[direction]\n",
    "    angle = np.deg2rad(num)\n",
    "    return round(np.cos(angle), 3), round(np.sin(angle), 3)\n",
    "\n",
    "columns = set(df.columns.values)\n",
    "print(f\"are all the columns in the dataframe: {columns == set(categorical + numerical + date)}\")\n",
    "print(f\"columns that are not in the dataframe: {columns - set(categorical + numerical + date)}\")\n"
   ]
  },
  {
   "cell_type": "code",
   "execution_count": 23,
   "metadata": {},
   "outputs": [
    {
     "name": "stdout",
     "output_type": "stream",
     "text": [
      "Classes: RainToday\n",
      "0.0    109332\n",
      "1.0     31455\n",
      "Name: count, dtype: int64\n",
      "Classes after SMOTE and random undersampling: RainTomorrow\n",
      "0.0    50000\n",
      "1.0    50000\n",
      "Name: count, dtype: int64\n"
     ]
    }
   ],
   "source": [
    "\"\"\" Standardize the numerical columns and one-hot encode the categorical columns.\n",
    "    convert the binary columns to 0 and 1. And convert the date column to datetime.\"\"\"\n",
    "\n",
    "scaler = StandardScaler()\n",
    "df[numerical] = scaler.fit_transform(df[numerical])\n",
    "df[numerical] = df[numerical].fillna(0)\n",
    "df[numerical] = df[numerical].astype('float16')\n",
    "\n",
    "df[binary] = df[binary].replace({'No': 0, 'Yes': 1})\n",
    "\n",
    "# df = pd.get_dummies(df, columns=categorical)\n",
    "df = df.drop(columns=categorical)\n",
    "\n",
    "df['Date'] = pd.to_datetime(df['Date']).dt.month\n",
    "df = df.rename(columns={'Date': 'Month'})\n",
    "\n",
    "for col in direction: # Apply circle encoding and return the sin and cos values into features\n",
    "    df[col + '_cos'], df[col + '_sin'] = zip(*df[col].apply(circleEncoding))\n",
    "df = df.drop(columns=direction)\n",
    "\n",
    "df = df.dropna()\n",
    "\n",
    "# Assuming 'df' is your DataFrame containing the dataset\n",
    "print(f\"Classes: {df['RainToday'].value_counts()}\")\n",
    "\n",
    "# Apply SMOTE to class 1 (RainTomorrow) to balance the classes\n",
    "smote = SMOTE(sampling_strategy={1: 50000})\n",
    "X = df.drop(columns='RainTomorrow')\n",
    "y = df['RainTomorrow']\n",
    "X, y = smote.fit_resample(X, y)\n",
    "\n",
    "# Apply random undersampling to the majority class (class 0)\n",
    "undersampler = RandomUnderSampler(sampling_strategy='majority')\n",
    "X_resampled, y_resampled = undersampler.fit_resample(X, y)\n",
    "\n",
    "# Concatenate the downsampled data into a new DataFrame\n",
    "df = pd.concat([pd.DataFrame(X_resampled, columns=X.columns), pd.Series(y_resampled, name='RainTomorrow')], axis=1)\n",
    "\n",
    "print(f\"Classes after SMOTE and random undersampling: {df['RainTomorrow'].value_counts()}\")\n",
    "\n",
    "df.to_csv('weatherAUS_cleaned.csv', index=False)"
   ]
  },
  {
   "cell_type": "code",
   "execution_count": 24,
   "metadata": {},
   "outputs": [],
   "source": [
    "from keras.layers import Conv2D, MaxPooling2D, Flatten, Dense\n",
    "from keras.models import Sequential\n",
    "from keras.initializers import HeNormal\n",
    "from keras.regularizers import l2\n",
    "from keras.callbacks import LearningRateScheduler\n",
    "from keras.optimizers.schedules import ExponentialDecay\n",
    "from keras.layers import Dropout\n",
    "from sklearn.base import BaseEstimator, ClassifierMixin\n",
    "\n",
    "\n",
    "class DenseModel(BaseEstimator, ClassifierMixin):\n",
    "    def __init__(self):\n",
    "        self.model = Sequential([\n",
    "            self.DenseLayer(2, activation='relu'),\n",
    "            Dropout(0.2),\n",
    "            self.DenseLayer(1, activation='sigmoid'),\n",
    "        ])\n",
    "    \n",
    "    # Customer Dense layer\n",
    "    def DenseLayer(self, nodes, activation='relu'):\n",
    "        return Dense(\n",
    "            nodes, activation=activation, \n",
    "            kernel_initializer=HeNormal(), bias_initializer=HeNormal(),\n",
    "            kernel_regularizer=l2(0.01), bias_regularizer=l2(0.01)\n",
    "        )\n",
    "\n",
    "    # Resets weights to HeNormal\n",
    "    def reset_weights(self):\n",
    "        initial_weights = self.model.get_weights()\n",
    "        self.model.set_weights(initial_weights)\n",
    "\n",
    "    # compile the model\n",
    "    def compile(self):\n",
    "        self.model.compile(optimizer='adam', loss='binary_crossentropy', metrics=['accuracy'])\n",
    "\n",
    "    # Run the model. Forward fit using a learning rate scheduler\n",
    "    def fit(self, training_images, training_labels, epochs=1, batch_size=32):\n",
    "        lr_scheduler = ExponentialDecay(initial_learning_rate=0.001, decay_steps=1, decay_rate=.8)\n",
    "        self.model.fit(training_images, training_labels, epochs=epochs, \n",
    "                    batch_size=batch_size, callbacks=[LearningRateScheduler(lr_scheduler)])\n"
   ]
  },
  {
   "cell_type": "code",
   "execution_count": 25,
   "metadata": {},
   "outputs": [
    {
     "name": "stdout",
     "output_type": "stream",
     "text": [
      "Epoch 1/6\n",
      "2500/2500 [==============================] - 2s 609us/step - loss: 0.7344 - accuracy: 0.6843 - lr: 0.0010\n",
      "Epoch 2/6\n",
      "2500/2500 [==============================] - 1s 556us/step - loss: 0.5568 - accuracy: 0.7206 - lr: 8.0000e-04\n",
      "Epoch 3/6\n",
      "2500/2500 [==============================] - 1s 534us/step - loss: 0.5448 - accuracy: 0.7191 - lr: 6.4000e-04\n",
      "Epoch 4/6\n",
      "2500/2500 [==============================] - 1s 557us/step - loss: 0.5418 - accuracy: 0.7197 - lr: 5.1200e-04\n",
      "Epoch 5/6\n",
      "2500/2500 [==============================] - 1s 538us/step - loss: 0.5423 - accuracy: 0.7183 - lr: 4.0960e-04\n",
      "Epoch 6/6\n",
      "2500/2500 [==============================] - 1s 543us/step - loss: 0.5451 - accuracy: 0.7168 - lr: 3.2768e-04\n",
      "625/625 [==============================] - 0s 409us/step\n"
     ]
    },
    {
     "data": {
      "image/png": "[encoded data removed]",
      "text/plain": [
       "<Figure size 800x600 with 1 Axes>"
      ]
     },
     "metadata": {},
     "output_type": "display_data"
    },
    {
     "name": "stdout",
     "output_type": "stream",
     "text": [
      "F1 Score: 0.78806675527987\n",
      "Accuracy: 0.78475\n"
     ]
    }
   ],
   "source": [
    "from sklearn.model_selection import train_test_split\n",
    "from sklearn.metrics import confusion_matrix, f1_score, accuracy_score\n",
    "import matplotlib.pyplot as plt\n",
    "import seaborn as sns\n",
    "\n",
    "# Split the data into training and testing sets\n",
    "y = df['RainTomorrow']\n",
    "X = df.drop(columns=['RainTomorrow'])\n",
    "X_train, X_test, y_train, y_test = train_test_split(X, y, test_size=0.2, random_state=42)\n",
    "\n",
    "# Instantiate and train the model\n",
    "model = DenseModel()\n",
    "model.compile()\n",
    "model.fit(X_train, y_train, epochs=6, batch_size=32)\n",
    "\n",
    "# Evaluate the model on the test set\n",
    "y_pred = model.model.predict(X_test)\n",
    "y_pred_binary = (y_pred > 0.5).astype(int)\n",
    "\n",
    "# Calculate evaluation metrics and confusion matrix\n",
    "cm = confusion_matrix(y_test, y_pred_binary)\n",
    "f1 = f1_score(y_test, y_pred_binary)\n",
    "accuracy = accuracy_score(y_test, y_pred_binary)\n",
    "\n",
    "# Display confusion matrix\n",
    "plt.figure(figsize=(8, 6))\n",
    "sns.heatmap(cm, annot=True, fmt='d', cmap='Blues', cbar=False)\n",
    "plt.xlabel('Predicted')\n",
    "plt.ylabel('Actual')\n",
    "plt.title('Confusion Matrix')\n",
    "plt.show()\n",
    "\n",
    "# Display F1 score and accuracy\n",
    "print(f'F1 Score: {f1}')\n",
    "print(f'Accuracy: {accuracy}')\n",
    "\n"
   ]
  }
 ],
 "metadata": {
  "kernelspec": {
   "display_name": "Python 3",
   "language": "python",
   "name": "python3"
  },
  "language_info": {
   "codemirror_mode": {
    "name": "ipython",
    "version": 3
   },
   "file_extension": ".py",
   "mimetype": "text/x-python",
   "name": "python",
   "nbconvert_exporter": "python",
   "pygments_lexer": "ipython3",
   "version": "3.11.6"
  }
 },
 "nbformat": 4,
 "nbformat_minor": 2
}
